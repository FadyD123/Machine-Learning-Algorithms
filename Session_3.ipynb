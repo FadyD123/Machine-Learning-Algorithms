{
  "nbformat": 4,
  "nbformat_minor": 0,
  "metadata": {
    "colab": {
      "name": "Session 3.ipynb",
      "provenance": [],
      "collapsed_sections": [],
      "authorship_tag": "ABX9TyNU34kP9eu51V0rpYE9vuT1",
      "include_colab_link": true
    },
    "kernelspec": {
      "name": "python3",
      "display_name": "Python 3"
    },
    "language_info": {
      "name": "python"
    }
  },
  "cells": [
    {
      "cell_type": "markdown",
      "metadata": {
        "id": "view-in-github",
        "colab_type": "text"
      },
      "source": [
        "<a href=\"https://colab.research.google.com/github/FadyD123/Machine-Learning-Algorithms/blob/main/Session_3.ipynb\" target=\"_parent\"><img src=\"https://colab.research.google.com/assets/colab-badge.svg\" alt=\"Open In Colab\"/></a>"
      ]
    },
    {
      "cell_type": "code",
      "metadata": {
        "colab": {
          "base_uri": "https://localhost:8080/"
        },
        "id": "N0xmYYvwQFsL",
        "outputId": "e8c212fc-82eb-4a06-eb00-cfb0ad0e4a93"
      },
      "source": [
        "def f(x):\n",
        "  y = x**3+x-1\n",
        "  return y\n",
        "\n",
        "a = int(input(\"donne a tel que f(a) < 0 : \"))\n",
        "b = int(input(\"donne b tel que f(b) > 0 : \"))\n",
        "eps = float(input(\"donne l'epsillon de la boucle: \"))\n",
        "\n",
        "while abs(a-b)>eps: # tant que |a-b| > epsillon \n",
        "  c = (a+b)/2\n",
        "  if f(a)*f(c)<0: # f(a) et f(c) sont de signe opposé\n",
        "    b = c\n",
        "  else:  # f(b) et f(c) sont de signe opposé\n",
        "    a = c \n",
        "  print(\"a = \",a)\n",
        "  print(\"b = \",b)\n"
      ],
      "execution_count": 7,
      "outputs": [
        {
          "output_type": "stream",
          "text": [
            "donne a tel que f(a) < 0 : 0\n",
            "donne b tel que f(b) > 0 : 1\n",
            "donne l'epsillon de la boucle: 0.00001\n",
            "a =  0.5\n",
            "b =  1\n",
            "a =  0.5\n",
            "b =  0.75\n",
            "a =  0.625\n",
            "b =  0.75\n",
            "a =  0.625\n",
            "b =  0.6875\n",
            "a =  0.65625\n",
            "b =  0.6875\n",
            "a =  0.671875\n",
            "b =  0.6875\n",
            "a =  0.6796875\n",
            "b =  0.6875\n",
            "a =  0.6796875\n",
            "b =  0.68359375\n",
            "a =  0.681640625\n",
            "b =  0.68359375\n",
            "a =  0.681640625\n",
            "b =  0.6826171875\n",
            "a =  0.68212890625\n",
            "b =  0.6826171875\n",
            "a =  0.68212890625\n",
            "b =  0.682373046875\n",
            "a =  0.6822509765625\n",
            "b =  0.682373046875\n",
            "a =  0.68231201171875\n",
            "b =  0.682373046875\n",
            "a =  0.68231201171875\n",
            "b =  0.682342529296875\n",
            "a =  0.6823272705078125\n",
            "b =  0.682342529296875\n",
            "a =  0.6823272705078125\n",
            "b =  0.6823348999023438\n"
          ],
          "name": "stdout"
        }
      ]
    }
  ]
}