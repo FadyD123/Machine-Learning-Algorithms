{
  "nbformat": 4,
  "nbformat_minor": 0,
  "metadata": {
    "colab": {
      "name": "cours de Python Acadomia.ipynb",
      "provenance": [],
      "collapsed_sections": [],
      "authorship_tag": "ABX9TyPC+sJMzLShzpxsRCNApEFw",
      "include_colab_link": true
    },
    "kernelspec": {
      "name": "python3",
      "display_name": "Python 3"
    },
    "language_info": {
      "name": "python"
    }
  },
  "cells": [
    {
      "cell_type": "markdown",
      "metadata": {
        "id": "view-in-github",
        "colab_type": "text"
      },
      "source": [
        "<a href=\"https://colab.research.google.com/github/FadyD123/Machine-Learning-Algorithms/blob/main/cours_de_Python_Acadomia.ipynb\" target=\"_parent\"><img src=\"https://colab.research.google.com/assets/colab-badge.svg\" alt=\"Open In Colab\"/></a>"
      ]
    },
    {
      "cell_type": "code",
      "metadata": {
        "colab": {
          "base_uri": "https://localhost:8080/"
        },
        "id": "Jr2rFKgJcVUT",
        "outputId": "d873190d-f89d-4283-a4fa-7d160c3f7cae"
      },
      "source": [
        "print(10>9)"
      ],
      "execution_count": 1,
      "outputs": [
        {
          "output_type": "stream",
          "text": [
            "True\n"
          ],
          "name": "stdout"
        }
      ]
    },
    {
      "cell_type": "code",
      "metadata": {
        "colab": {
          "base_uri": "https://localhost:8080/"
        },
        "id": "2Utpd9FFcd-P",
        "outputId": "81c747d6-77ea-4587-cdc5-4e4d4f3e972a"
      },
      "source": [
        "print(10==9)"
      ],
      "execution_count": 2,
      "outputs": [
        {
          "output_type": "stream",
          "text": [
            "False\n"
          ],
          "name": "stdout"
        }
      ]
    },
    {
      "cell_type": "code",
      "metadata": {
        "colab": {
          "base_uri": "https://localhost:8080/"
        },
        "id": "LDg01rXCcgD6",
        "outputId": "82818a32-d7d2-4e4a-800f-832486d2f382"
      },
      "source": [
        "print(10<9)"
      ],
      "execution_count": 3,
      "outputs": [
        {
          "output_type": "stream",
          "text": [
            "False\n"
          ],
          "name": "stdout"
        }
      ]
    },
    {
      "cell_type": "code",
      "metadata": {
        "colab": {
          "base_uri": "https://localhost:8080/"
        },
        "id": "ock6UNFPc1BE",
        "outputId": "d53422d1-58b8-4b2e-e9d4-3271d4787bae"
      },
      "source": [
        "a = int(input(\"Donne moi a :\"))\n",
        "b = int(input(\"Donne moi b :\"))\n",
        "\n",
        "if a > b:\n",
        "  print(\"a est plus grand que b\")\n",
        "elif a == b:\n",
        "  print(\"a est égal à b\")\n",
        "elif a < b:\n",
        "  print(\"a est plus petit que b\")\n"
      ],
      "execution_count": 14,
      "outputs": [
        {
          "output_type": "stream",
          "text": [
            "Donne moi a :10\n",
            "Donne moi b :100\n",
            "a est plus petit que b\n"
          ],
          "name": "stdout"
        }
      ]
    },
    {
      "cell_type": "code",
      "metadata": {
        "colab": {
          "base_uri": "https://localhost:8080/"
        },
        "id": "bbta5pwCeuP1",
        "outputId": "0e0db96b-035e-4564-c032-9a6b947fc244"
      },
      "source": [
        "print(13%5) # le modulo retourne le reste de la division.\n",
        "print(10**2) # c'est la puissance \n",
        "print(13//5) # le quotient de la division euclidienne\n",
        "print(13/5)  # c'est la division sur la calculatrice"
      ],
      "execution_count": 19,
      "outputs": [
        {
          "output_type": "stream",
          "text": [
            "3\n",
            "100\n",
            "2\n"
          ],
          "name": "stdout"
        }
      ]
    },
    {
      "cell_type": "code",
      "metadata": {
        "colab": {
          "base_uri": "https://localhost:8080/"
        },
        "id": "RyQx7FV2fufC",
        "outputId": "495aa998-4c87-4a00-b80e-f7e4c883c200"
      },
      "source": [
        "x = 5\n",
        "x += 3 # x = x + 3\n",
        "print(x)\n",
        "x -= 10\n",
        "print(x)"
      ],
      "execution_count": 21,
      "outputs": [
        {
          "output_type": "stream",
          "text": [
            "8\n",
            "-2\n"
          ],
          "name": "stdout"
        }
      ]
    },
    {
      "cell_type": "code",
      "metadata": {
        "colab": {
          "base_uri": "https://localhost:8080/"
        },
        "id": "C0zS4Wt7gM-w",
        "outputId": "bac94e66-c989-4518-c8de-38c1fdc1f5da"
      },
      "source": [
        "n = int(input(\"donn moi n : \"))\n",
        "i = 1\n",
        "s = 0\n",
        "while(i <= n):\n",
        "  s += i # s = s + i\n",
        "  i += 1 # i = i + 1\n",
        "print(s)\n",
        "print(50*101)"
      ],
      "execution_count": 23,
      "outputs": [
        {
          "output_type": "stream",
          "text": [
            "donn moi n : 100\n",
            "5050\n",
            "5050\n"
          ],
          "name": "stdout"
        }
      ]
    },
    {
      "cell_type": "code",
      "metadata": {
        "colab": {
          "base_uri": "https://localhost:8080/"
        },
        "id": "pKgSBmfGiz5Z",
        "outputId": "e5f086fa-a23a-4268-eef5-a0fa4cf1fddf"
      },
      "source": [
        "a = False\n",
        "while a == False:\n",
        " n = int(input(\"donne moi n : \"))\n",
        " if n < 0:\n",
        "   print(\"donne un nombre positif\")\n",
        "   a = False\n",
        " else:\n",
        "   a = True\n",
        "\n",
        "i = 1\n",
        "s = 0\n",
        "for i in range(1,n+1):\n",
        " s += i # s = s + i\n",
        "print(\" S = 1+2+3+...+n = \",s)\n",
        "print(\" Moyen de vérification = \",int(n*(n+1)/2))"
      ],
      "execution_count": 37,
      "outputs": [
        {
          "output_type": "stream",
          "text": [
            "donne moi n : 10\n",
            " S = 1+2+3+...+n =  55\n",
            " Moyen de vérification =  55\n"
          ],
          "name": "stdout"
        }
      ]
    },
    {
      "cell_type": "code",
      "metadata": {
        "colab": {
          "base_uri": "https://localhost:8080/"
        },
        "id": "J2sIlXXVlE9X",
        "outputId": "883bf206-9883-421c-f143-8c60c9ae96fe"
      },
      "source": [
        "def add1(a):\n",
        "  return a+1\n",
        "def afficher(a):\n",
        "  print(a)\n",
        "\n",
        "a = 10\n",
        "b = add1(a)\n",
        "afficher(b)"
      ],
      "execution_count": 43,
      "outputs": [
        {
          "output_type": "stream",
          "text": [
            "11\n"
          ],
          "name": "stdout"
        }
      ]
    },
    {
      "cell_type": "code",
      "metadata": {
        "colab": {
          "base_uri": "https://localhost:8080/"
        },
        "id": "tHd40R0enWDW",
        "outputId": "f9defaa8-de54-424d-9375-2b7bbaedbe2f"
      },
      "source": [
        "# Soit f est une fonction strictement croissante sur R \n",
        "# Le but est de déterminer la racine de l'équation f(x) = 0\n",
        "# Soit c noté par cette racine\n",
        "def f(x):\n",
        "  y = x**3+x-1\n",
        "  return y\n",
        "\n",
        "#a = 0\n",
        "#print(f(a))\n",
        "\n",
        "#b = 1\n",
        "#print(f(b))\n",
        "\n",
        "a = int(input(\"donne a tel que f(a) < 0 : \"))\n",
        "b = int(input(\"donne a tel que f(b) > 0 : \"))\n",
        "eps = float(input(\"donne l'epsillon de la boucle: \"))\n",
        "\n",
        "while b-a > eps:\n",
        "  c = (a+b)/2\n",
        "  if f(a)*f(c)<=0:\n",
        "    b = c\n",
        "  else:\n",
        "    a = c\n",
        "print(c)\n",
        "#Vérification\n",
        "print(f(c))"
      ],
      "execution_count": 57,
      "outputs": [
        {
          "output_type": "stream",
          "text": [
            "donne a tel que f(a) < 0 : 0\n",
            "donne a tel que f(b) > 0 : 1\n",
            "donne l'epsillon de la boucle: 0.00001\n",
            "0.6823348999023438\n",
            "1.7007361593268655e-05\n"
          ],
          "name": "stdout"
        }
      ]
    },
    {
      "cell_type": "code",
      "metadata": {
        "colab": {
          "base_uri": "https://localhost:8080/"
        },
        "id": "g0gPXTryCKnn",
        "outputId": "dbe80a71-8d99-4685-9eeb-0c7b946d7f35"
      },
      "source": [
        "def f(x):\n",
        "  y = x**3+x-1\n",
        "  return y\n",
        "\n",
        "\n",
        "def df(x):\n",
        "  y = 3*x**2 + 1\n",
        "  return y\n",
        "\n",
        "\n",
        "N = 10\n",
        "x0 = 10\n",
        "\n",
        "for n in range(1,N+1):\n",
        "  xn = x0 - f(x0)/df(x0)\n",
        "  x0 = xn\n",
        "  print(xn)\n",
        "\n"
      ],
      "execution_count": 9,
      "outputs": [
        {
          "output_type": "stream",
          "text": [
            "6.647840531561462\n",
            "4.40620227452086\n",
            "2.9047649065604624\n",
            "1.9009187569611197\n",
            "1.2447058251731327\n",
            "0.8599384089062632\n",
            "0.7058726942757955\n",
            "0.6827931272405363\n",
            "0.6823279886953629\n",
            "0.6823278038280485\n"
          ],
          "name": "stdout"
        }
      ]
    }
  ]
}