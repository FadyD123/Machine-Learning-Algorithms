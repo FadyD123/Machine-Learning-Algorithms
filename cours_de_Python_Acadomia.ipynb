{
  "nbformat": 4,
  "nbformat_minor": 0,
  "metadata": {
    "colab": {
      "name": "cours de Python Acadomia.ipynb",
      "provenance": [],
      "collapsed_sections": [],
      "authorship_tag": "ABX9TyMy9kXcvbhVz+fY6dKPbZDV",
      "include_colab_link": true
    },
    "kernelspec": {
      "name": "python3",
      "display_name": "Python 3"
    },
    "language_info": {
      "name": "python"
    }
  },
  "cells": [
    {
      "cell_type": "markdown",
      "metadata": {
        "id": "view-in-github",
        "colab_type": "text"
      },
      "source": [
        "<a href=\"https://colab.research.google.com/github/FadyD123/Machine-Learning-Algorithms/blob/main/cours_de_Python_Acadomia.ipynb\" target=\"_parent\"><img src=\"https://colab.research.google.com/assets/colab-badge.svg\" alt=\"Open In Colab\"/></a>"
      ]
    },
    {
      "cell_type": "code",
      "metadata": {
        "colab": {
          "base_uri": "https://localhost:8080/"
        },
        "id": "Jr2rFKgJcVUT",
        "outputId": "d873190d-f89d-4283-a4fa-7d160c3f7cae"
      },
      "source": [
        "print(10>9)"
      ],
      "execution_count": 1,
      "outputs": [
        {
          "output_type": "stream",
          "text": [
            "True\n"
          ],
          "name": "stdout"
        }
      ]
    },
    {
      "cell_type": "code",
      "metadata": {
        "colab": {
          "base_uri": "https://localhost:8080/"
        },
        "id": "2Utpd9FFcd-P",
        "outputId": "81c747d6-77ea-4587-cdc5-4e4d4f3e972a"
      },
      "source": [
        "print(10==9)"
      ],
      "execution_count": 2,
      "outputs": [
        {
          "output_type": "stream",
          "text": [
            "False\n"
          ],
          "name": "stdout"
        }
      ]
    },
    {
      "cell_type": "code",
      "metadata": {
        "colab": {
          "base_uri": "https://localhost:8080/"
        },
        "id": "LDg01rXCcgD6",
        "outputId": "82818a32-d7d2-4e4a-800f-832486d2f382"
      },
      "source": [
        "print(10<9)"
      ],
      "execution_count": 3,
      "outputs": [
        {
          "output_type": "stream",
          "text": [
            "False\n"
          ],
          "name": "stdout"
        }
      ]
    },
    {
      "cell_type": "code",
      "metadata": {
        "colab": {
          "base_uri": "https://localhost:8080/"
        },
        "id": "ock6UNFPc1BE",
        "outputId": "d53422d1-58b8-4b2e-e9d4-3271d4787bae"
      },
      "source": [
        "a = int(input(\"Donne moi a :\"))\n",
        "b = int(input(\"Donne moi b :\"))\n",
        "\n",
        "if a > b:\n",
        "  print(\"a est plus grand que b\")\n",
        "elif a == b:\n",
        "  print(\"a est égal à b\")\n",
        "elif a < b:\n",
        "  print(\"a est plus petit que b\")\n"
      ],
      "execution_count": 14,
      "outputs": [
        {
          "output_type": "stream",
          "text": [
            "Donne moi a :10\n",
            "Donne moi b :100\n",
            "a est plus petit que b\n"
          ],
          "name": "stdout"
        }
      ]
    },
    {
      "cell_type": "code",
      "metadata": {
        "colab": {
          "base_uri": "https://localhost:8080/"
        },
        "id": "bbta5pwCeuP1",
        "outputId": "0e0db96b-035e-4564-c032-9a6b947fc244"
      },
      "source": [
        "print(13%5) # le modulo retourne le reste de la division.\n",
        "print(10**2) # c'est la puissance \n",
        "print(13//5) # le quotient de la division euclidienne\n",
        "print(13/5)  # c'est la division sur la calculatrice"
      ],
      "execution_count": 19,
      "outputs": [
        {
          "output_type": "stream",
          "text": [
            "3\n",
            "100\n",
            "2\n"
          ],
          "name": "stdout"
        }
      ]
    },
    {
      "cell_type": "code",
      "metadata": {
        "colab": {
          "base_uri": "https://localhost:8080/"
        },
        "id": "RyQx7FV2fufC",
        "outputId": "495aa998-4c87-4a00-b80e-f7e4c883c200"
      },
      "source": [
        "x = 5\n",
        "x += 3 # x = x + 3\n",
        "print(x)\n",
        "x -= 10\n",
        "print(x)"
      ],
      "execution_count": 21,
      "outputs": [
        {
          "output_type": "stream",
          "text": [
            "8\n",
            "-2\n"
          ],
          "name": "stdout"
        }
      ]
    },
    {
      "cell_type": "code",
      "metadata": {
        "colab": {
          "base_uri": "https://localhost:8080/"
        },
        "id": "C0zS4Wt7gM-w",
        "outputId": "bac94e66-c989-4518-c8de-38c1fdc1f5da"
      },
      "source": [
        "n = int(input(\"donn moi n : \"))\n",
        "i = 1\n",
        "s = 0\n",
        "while(i <= n):\n",
        "  s += i # s = s + i\n",
        "  i += 1 # i = i + 1\n",
        "print(s)\n",
        "print(50*101)"
      ],
      "execution_count": 23,
      "outputs": [
        {
          "output_type": "stream",
          "text": [
            "donn moi n : 100\n",
            "5050\n",
            "5050\n"
          ],
          "name": "stdout"
        }
      ]
    },
    {
      "cell_type": "code",
      "metadata": {
        "colab": {
          "base_uri": "https://localhost:8080/"
        },
        "id": "pKgSBmfGiz5Z",
        "outputId": "e5f086fa-a23a-4268-eef5-a0fa4cf1fddf"
      },
      "source": [
        "a = False\n",
        "while a == False:\n",
        " n = int(input(\"donne moi n : \"))\n",
        " if n < 0:\n",
        "   print(\"donne un nombre positif\")\n",
        "   a = False\n",
        " else:\n",
        "   a = True\n",
        "\n",
        "i = 1\n",
        "s = 0\n",
        "for i in range(1,n+1):\n",
        " s += i # s = s + i\n",
        "print(\" S = 1+2+3+...+n = \",s)\n",
        "print(\" Moyen de vérification = \",int(n*(n+1)/2))"
      ],
      "execution_count": 37,
      "outputs": [
        {
          "output_type": "stream",
          "text": [
            "donne moi n : 10\n",
            " S = 1+2+3+...+n =  55\n",
            " Moyen de vérification =  55\n"
          ],
          "name": "stdout"
        }
      ]
    },
    {
      "cell_type": "code",
      "metadata": {
        "colab": {
          "base_uri": "https://localhost:8080/"
        },
        "id": "J2sIlXXVlE9X",
        "outputId": "883bf206-9883-421c-f143-8c60c9ae96fe"
      },
      "source": [
        "def add1(a):\n",
        "  return a+1\n",
        "def afficher(a):\n",
        "  print(a)\n",
        "\n",
        "a = 10\n",
        "b = add1(a)\n",
        "afficher(b)"
      ],
      "execution_count": 43,
      "outputs": [
        {
          "output_type": "stream",
          "text": [
            "11\n"
          ],
          "name": "stdout"
        }
      ]
    },
    {
      "cell_type": "code",
      "metadata": {
        "colab": {
          "base_uri": "https://localhost:8080/"
        },
        "id": "tHd40R0enWDW",
        "outputId": "f9defaa8-de54-424d-9375-2b7bbaedbe2f"
      },
      "source": [
        "# Soit f est une fonction strictement croissante sur R \n",
        "# Le but est de déterminer la racine de l'équation f(x) = 0\n",
        "# Soit c noté par cette racine\n",
        "def f(x):\n",
        "  y = x**3+x-1\n",
        "  return y\n",
        "\n",
        "#a = 0\n",
        "#print(f(a))\n",
        "\n",
        "#b = 1\n",
        "#print(f(b))\n",
        "\n",
        "a = int(input(\"donne a tel que f(a) < 0 : \"))\n",
        "b = int(input(\"donne a tel que f(b) > 0 : \"))\n",
        "eps = float(input(\"donne l'epsillon de la boucle: \"))\n",
        "\n",
        "while b-a > eps:\n",
        "  c = (a+b)/2\n",
        "  if f(a)*f(c)<=0:\n",
        "    b = c\n",
        "  else:\n",
        "    a = c\n",
        "print(c)\n",
        "#Vérification\n",
        "print(f(c))"
      ],
      "execution_count": 57,
      "outputs": [
        {
          "output_type": "stream",
          "text": [
            "donne a tel que f(a) < 0 : 0\n",
            "donne a tel que f(b) > 0 : 1\n",
            "donne l'epsillon de la boucle: 0.00001\n",
            "0.6823348999023438\n",
            "1.7007361593268655e-05\n"
          ],
          "name": "stdout"
        }
      ]
    },
    {
      "cell_type": "code",
      "metadata": {
        "colab": {
          "base_uri": "https://localhost:8080/",
          "height": 622
        },
        "id": "g0gPXTryCKnn",
        "outputId": "9daf94e2-0cfb-467c-ccb6-ba072ad2c772"
      },
      "source": [
        "# matplotlib est une librairie utilisée pour dessiner une fonction\n",
        "import matplotlib.pyplot as plt\n",
        "# numpy est une librairie pour définir un tableau\n",
        "import numpy as np\n",
        "# math est une librairie dont toutes les fonctions mathémtiques sont utilisées\n",
        "import math\n",
        "\n",
        "# Définition de la fonction f\n",
        "def f(x):\n",
        "  y = x**3+x-1\n",
        "  return y\n",
        "\n",
        "# Calcul de la dérivée de la fonction f\n",
        "def df(x):\n",
        "  y = 3*x**2 + 1\n",
        "  return y\n",
        "\n",
        "# N est le nombre d'itérations\n",
        "N = 20\n",
        "# x0 est la valeur initial \n",
        "x0 = 1000\n",
        "tab = np.zeros(N+1)\n",
        "tab[0] = x0\n",
        "for n in range(1,N+1):\n",
        "  # Application de la méthode de Newton\n",
        "  xn = x0 - f(x0)/df(x0)\n",
        "  tab[n]= xn\n",
        "  x0 = xn\n",
        "  print(xn)\n",
        "\n",
        "# Tracer l'évolution de la méthode de Newton pour converger vers la racine de la fonction f\n",
        "plt.plot(tab)"
      ],
      "execution_count": 17,
      "outputs": [
        {
          "output_type": "stream",
          "text": [
            "666.6664447778517\n",
            "444.44396393537346\n",
            "296.29547764471965\n",
            "197.52957222747014\n",
            "131.68526503024034\n",
            "87.78850841580751\n",
            "58.523184300417086\n",
            "39.01175671937834\n",
            "26.002361745766095\n",
            "17.326858573689982\n",
            "11.539537034991604\n",
            "7.676312297826545\n",
            "5.094380300017508\n",
            "3.36586664140511\n",
            "2.208357749268621\n",
            "1.4420259319454773\n",
            "0.9666901749656778\n",
            "0.7379378916694687\n",
            "0.6848620007545504\n",
            "0.6823332786939139\n"
          ],
          "name": "stdout"
        },
        {
          "output_type": "execute_result",
          "data": {
            "text/plain": [
              "[<matplotlib.lines.Line2D at 0x7f5e1726ce90>]"
            ]
          },
          "metadata": {
            "tags": []
          },
          "execution_count": 17
        },
        {
          "output_type": "display_data",
          "data": {
            "image/png": "[encoded data removed]",
            "text/plain": [
              "<Figure size 432x288 with 1 Axes>"
            ]
          },
          "metadata": {
            "tags": [],
            "needs_background": "light"
          }
        }
      ]
    },
    {
      "cell_type": "code",
      "metadata": {
        "colab": {
          "base_uri": "https://localhost:8080/"
        },
        "id": "2XbnJXdKJFQs",
        "outputId": "67b55911-74ba-4418-f25f-d87aac66e3b5"
      },
      "source": [
        "def Newton(f,fPrime,x0,epsillon):\n",
        "  x1 = x0 - f(x0)/fPrime(x0)\n",
        "  while abs(f(x1)) > epsillon:\n",
        "    x0 = x1\n",
        "    x1 = x0 - f(x0)/fPrime(x0)\n",
        "  return x1\n",
        " \n",
        "\n",
        "print( Newton(lambda x: x**3+x-1 , lambda x: 3*x**2+1 , 0 , 0.001) )\n",
        "    "
      ],
      "execution_count": 22,
      "outputs": [
        {
          "output_type": "stream",
          "text": [
            "0.6823395825973142\n"
          ],
          "name": "stdout"
        }
      ]
    },
    {
      "cell_type": "code",
      "metadata": {
        "colab": {
          "base_uri": "https://localhost:8080/",
          "height": 39
        },
        "id": "iGXAP9U5LV0v",
        "outputId": "4a4ba2ff-7dd8-4c4e-bb02-440c2b8754e5"
      },
      "source": [
        "from sympy import expand \n",
        "from sympy import factor\n",
        "\n",
        "expand((x + 1)**2) # le résultat est x**2+2*x+1\n",
        "factor(x**2+2*x+1) # le résultat est (x+1)**2\n",
        "\n"
      ],
      "execution_count": 33,
      "outputs": [
        {
          "output_type": "execute_result",
          "data": {
            "text/latex": "$\\displaystyle \\left(x + 1\\right)^{2}$",
            "text/plain": [
              "(x + 1)**2"
            ]
          },
          "metadata": {
            "tags": []
          },
          "execution_count": 33
        }
      ]
    }
  ]
}