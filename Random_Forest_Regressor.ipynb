{
  "nbformat": 4,
  "nbformat_minor": 0,
  "metadata": {
    "colab": {
      "name": "Random Forest Regressor.ipynb",
      "provenance": [],
      "collapsed_sections": [],
      "authorship_tag": "ABX9TyMVD9qrjOoPkVXV1vhO2gxG",
      "include_colab_link": true
    },
    "kernelspec": {
      "name": "python3",
      "display_name": "Python 3"
    },
    "language_info": {
      "name": "python"
    }
  },
  "cells": [
    {
      "cell_type": "markdown",
      "metadata": {
        "id": "view-in-github",
        "colab_type": "text"
      },
      "source": [
        "<a href=\"https://colab.research.google.com/github/FadyD123/Machine-Learning-Algorithms/blob/main/Random_Forest_Regressor.ipynb\" target=\"_parent\"><img src=\"https://colab.research.google.com/assets/colab-badge.svg\" alt=\"Open In Colab\"/></a>"
      ]
    },
    {
      "cell_type": "code",
      "metadata": {
        "colab": {
          "base_uri": "https://localhost:8080/"
        },
        "id": "ZQ5Yp63qIl7U",
        "outputId": "e5abf116-63c0-431c-9f15-99e0ba54e58a"
      },
      "source": [
        "from sklearn.datasets import load_boston\n",
        "\n",
        "import numpy as np\n",
        "\n",
        "import pandas as pd\n",
        "\n",
        "import matplotlib.pyplot as plt\n",
        "\n",
        "Boston_P = load_boston()\n",
        "\n",
        "x = Boston_P.data\n",
        "\n",
        "BP = pd.DataFrame(x, columns = Boston_P.feature_names)\n",
        "\n",
        "y = Boston_P.target\n",
        "\n",
        "BP['y'] = y\n",
        "\n",
        "from sklearn.model_selection import train_test_split\n",
        "\n",
        "X_train, X_test, y_train, y_test = train_test_split(x,y, test_size = 0.25, train_size = 0.75, \n",
        "                                                    random_state = 76)\n",
        "\n",
        "from sklearn.ensemble import RandomForestRegressor\n",
        "\n",
        "Random_F = RandomForestRegressor(random_state = 33)\n",
        "\n",
        "Random_F.fit(X_train, y_train)\n",
        "\n",
        "y_pred = Random_F.predict(X_test)\n",
        "\n",
        "print(y_pred)\n",
        "print(y_test)"
      ],
      "execution_count": 3,
      "outputs": [
        {
          "output_type": "stream",
          "text": [
            "[14.845 16.075 23.223 24.762 22.176 24.513 18.923 18.053 29.794 20.171\n",
            " 16.938 15.157 10.685 24.662 14.875 20.376 17.576  7.118 17.888 18.353\n",
            " 20.587 26.862 20.597 19.389 14.617 23.426 24.105 33.674 20.616 20.733\n",
            " 11.471 20.047 20.85  21.665 26.486 20.828 19.825 14.411 21.394 21.508\n",
            " 18.724 18.663 37.498 24.143 20.588 20.596 18.528 29.882 30.703 20.384\n",
            " 22.105 25.96  16.202 21.057 19.876 23.387 22.875 21.987 20.3   10.061\n",
            " 20.74  20.613 27.089 12.27  18.548 26.202 24.588 19.992 14.695 24.949\n",
            " 25.265 15.264 24.878 16.64  30.    19.943 15.313 24.857 24.189 28.105\n",
            " 23.317 23.546 11.469 43.148 14.623 21.381  8.429 43.807 16.084 21.954\n",
            " 26.338 11.152 43.225 15.429 22.097 15.996 32.919 15.278 19.436 17.651\n",
            " 31.508 30.129 10.305 14.447 23.204 15.167 20.455 18.92  16.21  17.733\n",
            " 20.562 23.186 20.752 19.766 10.749 24.574 21.334 22.02  19.941  9.141\n",
            " 20.51  20.015 29.504 25.354 32.162 48.343 48.114]\n",
            "[13.6 27.1 21.4 28.4 23.  23.7 21.5 21.5 23.7 16.  20.  15.4 10.5 23.\n",
            " 14.9 21.2 20.1  8.5 20.5 18.6 20.6 24.  21.7 17.1 12.7 22.9 23.2 37.9\n",
            " 19.3 23.  12.7 18.5 23.4 20.3 28.4 11.9 20.1 17.8 20.2 19.8 17.2 19.1\n",
            " 44.  22.9 20.  17.4 20.2 24.8 26.6 20.1 23.9 23.5 13.1 20.9 17.5 20.7\n",
            " 28.7 20.5 20.9  8.3 19.6 19.4 25.  17.2 17.8 25.  23.4 22.9 11.8 28.7\n",
            " 26.5 14.2 27.5 13.9 31.1 18.5 15.7 23.3 23.1 29.9 22.8 22.3 17.9 43.1\n",
            " 17.8 24.3  8.8 38.7 16.7 22.8 24.5 13.8 43.5 15.2 23.9 27.5 33.4 14.9\n",
            " 19.7 21.7 37.2 28.2  8.3 13.4 22.6 17.3 21.  16.6 14.8 19.6 21.2 22.\n",
            " 19.7 18.7  9.7 22.2 23.1 20.6 18.9  7.2 21.7 19.9 15.  24.3 31.7 50.\n",
            " 50. ]\n"
          ],
          "name": "stdout"
        }
      ]
    }
  ]
}