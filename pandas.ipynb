{
  "nbformat": 4,
  "nbformat_minor": 0,
  "metadata": {
    "colab": {
      "name": "pandas.ipynb",
      "provenance": [],
      "authorship_tag": "ABX9TyM+auNfBFJLEByI7giYb/yC",
      "include_colab_link": true
    },
    "kernelspec": {
      "name": "python3",
      "display_name": "Python 3"
    },
    "language_info": {
      "name": "python"
    }
  },
  "cells": [
    {
      "cell_type": "markdown",
      "metadata": {
        "id": "view-in-github",
        "colab_type": "text"
      },
      "source": [
        "<a href=\"https://colab.research.google.com/github/FadyD123/Machine-Learning-Algorithms/blob/main/pandas.ipynb\" target=\"_parent\"><img src=\"https://colab.research.google.com/assets/colab-badge.svg\" alt=\"Open In Colab\"/></a>"
      ]
    },
    {
      "cell_type": "code",
      "execution_count": 6,
      "metadata": {
        "colab": {
          "base_uri": "https://localhost:8080/"
        },
        "id": "wyB50svSt_B0",
        "outputId": "88d1da21-1018-4cb4-8621-98ae8eba48e8"
      },
      "outputs": [
        {
          "output_type": "execute_result",
          "data": {
            "text/plain": [
              "Index(['liz', 'bill', 'eve', 'bob'], dtype='object')"
            ]
          },
          "metadata": {},
          "execution_count": 6
        }
      ],
      "source": [
        "import numpy as np\n",
        "import pandas as pd\n",
        "\n",
        "prenoms = {'liz','bob','bill','eve'}\n",
        "ages = pd.Series([25 , 30 , 35 , 40],index = prenoms)\n",
        "tailles = pd.Series([160 , 175 , 170 , 180],index = prenoms)\n",
        "sexes = pd.Series(list('fhhf'),index = prenoms)\n",
        "df = pd.DataFrame(\n",
        "    {'age': ages,\n",
        "     'taille' : tailles,\n",
        "     'sexe' : sexes})\n",
        "df\n",
        "df.index\n"
      ]
    }
  ]
}