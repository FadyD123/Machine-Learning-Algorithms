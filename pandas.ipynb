{
  "nbformat": 4,
  "nbformat_minor": 0,
  "metadata": {
    "colab": {
      "name": "pandas.ipynb",
      "provenance": [],
      "authorship_tag": "ABX9TyNhZGDb9gc4Oa55llIfQDkW",
      "include_colab_link": true
    },
    "kernelspec": {
      "name": "python3",
      "display_name": "Python 3"
    },
    "language_info": {
      "name": "python"
    }
  },
  "cells": [
    {
      "cell_type": "markdown",
      "metadata": {
        "id": "view-in-github",
        "colab_type": "text"
      },
      "source": [
        "<a href=\"https://colab.research.google.com/github/FadyD123/Machine-Learning-Algorithms/blob/main/pandas.ipynb\" target=\"_parent\"><img src=\"https://colab.research.google.com/assets/colab-badge.svg\" alt=\"Open In Colab\"/></a>"
      ]
    },
    {
      "cell_type": "code",
      "execution_count": 17,
      "metadata": {
        "colab": {
          "base_uri": "https://localhost:8080/"
        },
        "id": "wyB50svSt_B0",
        "outputId": "4385bc30-05ef-4720-ceb5-75a1317887fe"
      },
      "outputs": [
        {
          "output_type": "execute_result",
          "data": {
            "text/plain": [
              "liz     160\n",
              "bill    175\n",
              "eve     170\n",
              "bob     180\n",
              "Name: taille, dtype: int64"
            ]
          },
          "metadata": {},
          "execution_count": 17
        }
      ],
      "source": [
        "import numpy as np\n",
        "import pandas as pd\n",
        "\n",
        "prenoms = {'liz','bob','bill','eve'}\n",
        "ages = pd.Series([25 , 30 , 35 , 40],index = prenoms)\n",
        "tailles = pd.Series([160 , 175 , 170 , 180],index = prenoms)\n",
        "sexes = pd.Series(list('fhhf'),index = prenoms)\n",
        "df = pd.DataFrame(\n",
        "    {'age': ages,\n",
        "     'taille' : tailles,\n",
        "     'sexe' : sexes})\n",
        "df\n",
        "df.index\n",
        "df.values\n",
        "df.head(2)\n",
        "df.tail(2)\n",
        "df.describe()\n",
        "df\n",
        "df.loc['liz']\n",
        "df.loc['liz','age']\n",
        "df.loc[:,'taille']"
      ]
    }
  ]
}