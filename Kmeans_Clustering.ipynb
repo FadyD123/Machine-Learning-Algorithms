{
  "nbformat": 4,
  "nbformat_minor": 0,
  "metadata": {
    "colab": {
      "name": "Kmeans Clustering.ipynb",
      "provenance": [],
      "collapsed_sections": [],
      "authorship_tag": "ABX9TyPWjKpnWOli9W/WTYxu0AkQ",
      "include_colab_link": true
    },
    "kernelspec": {
      "name": "python3",
      "display_name": "Python 3"
    },
    "language_info": {
      "name": "python"
    }
  },
  "cells": [
    {
      "cell_type": "markdown",
      "metadata": {
        "id": "view-in-github",
        "colab_type": "text"
      },
      "source": [
        "<a href=\"https://colab.research.google.com/github/FadyD123/Machine-Learning-Algorithms/blob/main/Kmeans_Clustering.ipynb\" target=\"_parent\"><img src=\"https://colab.research.google.com/assets/colab-badge.svg\" alt=\"Open In Colab\"/></a>"
      ]
    },
    {
      "cell_type": "code",
      "metadata": {
        "colab": {
          "base_uri": "https://localhost:8080/",
          "height": 618
        },
        "id": "n5hSbBuNVhIh",
        "outputId": "01821ab2-9862-45c7-dbbc-c4fe91251ab9"
      },
      "source": [
        "import pandas as pd\n",
        "import numpy as np \n",
        "import matplotlib.pyplot as plt\n",
        "from sklearn.cluster import KMeans\n",
        "\n",
        "x1=10*np.random.rand(100,2)\n",
        "\n",
        "kmean=KMeans(n_clusters=3)\n",
        "kmean.fit(x1)\n",
        "\n",
        "kmean.cluster_centers_\n",
        "\n",
        "kmean.labels_\n",
        "\n",
        "wcss = []\n",
        "for i in range(1,20):\n",
        " kmeans = KMeans(n_clusters=i,init='k-means++',max_iter=300,n_init=10,random_state=0)\n",
        " kmeans.fit(x1)\n",
        " wcss.append(kmeans.inertia_)\n",
        " print('Cluster', i, 'Inertia', kmeans.inertia_)\n",
        "plt.plot(range(1,20),wcss)\n",
        "plt.title('The Elbow Curve')\n",
        "plt.xlabel('Number of clusters')\n",
        "plt.ylabel('WCSS') ##WCSS stands for total within-cluster sum of square\n",
        "plt.show()"
      ],
      "execution_count": 5,
      "outputs": [
        {
          "output_type": "stream",
          "text": [
            "Cluster 1 Inertia 1697.9319884967422\n",
            "Cluster 2 Inertia 1033.3370325964934\n",
            "Cluster 3 Inertia 642.2354574211457\n",
            "Cluster 4 Inertia 416.00201913934245\n",
            "Cluster 5 Inertia 337.40412769763043\n",
            "Cluster 6 Inertia 280.33974668812766\n",
            "Cluster 7 Inertia 242.3204567365257\n",
            "Cluster 8 Inertia 197.94472738719224\n",
            "Cluster 9 Inertia 167.68177569634545\n",
            "Cluster 10 Inertia 146.57451424497486\n",
            "Cluster 11 Inertia 131.4132088211124\n",
            "Cluster 12 Inertia 112.77127174978793\n",
            "Cluster 13 Inertia 99.50084210636379\n",
            "Cluster 14 Inertia 89.06577170431095\n",
            "Cluster 15 Inertia 84.4043241061671\n",
            "Cluster 16 Inertia 72.43948920313646\n",
            "Cluster 17 Inertia 68.19520012141403\n",
            "Cluster 18 Inertia 62.13652042490028\n",
            "Cluster 19 Inertia 57.659590212990864\n"
          ],
          "name": "stdout"
        },
        {
          "output_type": "display_data",
          "data": {
            "image/png": "[encoded data removed]",
            "text/plain": [
              "<Figure size 432x288 with 1 Axes>"
            ]
          },
          "metadata": {
            "tags": [],
            "needs_background": "light"
          }
        }
      ]
    }
  ]
}